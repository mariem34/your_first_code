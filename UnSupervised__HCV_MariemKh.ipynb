{
  "nbformat": 4,
  "nbformat_minor": 0,
  "metadata": {
    "colab": {
      "name": "UnSupervised__HCV_MariemKh.ipynb",
      "provenance": [],
      "collapsed_sections": [],
      "authorship_tag": "ABX9TyPPJFOF/5RuObp+s9m9ahBq",
      "include_colab_link": true
    },
    "kernelspec": {
      "name": "python3",
      "display_name": "Python 3"
    },
    "language_info": {
      "name": "python"
    }
  },
  "cells": [
    {
      "cell_type": "markdown",
      "metadata": {
        "id": "view-in-github",
        "colab_type": "text"
      },
      "source": [
        "<a href=\"https://colab.research.google.com/github/mariem34/your_first_code/blob/master/UnSupervised__HCV_MariemKh.ipynb\" target=\"_parent\"><img src=\"https://colab.research.google.com/assets/colab-badge.svg\" alt=\"Open In Colab\"/></a>"
      ]
    },
    {
      "cell_type": "markdown",
      "metadata": {
        "id": "FAf4GMsGVX3P"
      },
      "source": [
        "#**1. Préparation de l'environnement**"
      ]
    },
    {
      "cell_type": "code",
      "metadata": {
        "id": "YIRFMtoqe3vA"
      },
      "source": [
        "import pandas as pd\n",
        "import warnings\n",
        "import numpy as np\n",
        "import seaborn as sns\n",
        "import matplotlib.pyplot as plt\n",
        "import matplotlib\n",
        "import seaborn as sns\n",
        "warnings.filterwarnings('ignore')\n",
        "warnings.filterwarnings(\"ignore\", category=FutureWarning)\n",
        "warnings.filterwarnings(\"ignore\", category=DeprecationWarning)"
      ],
      "execution_count": 2,
      "outputs": []
    },
    {
      "cell_type": "code",
      "metadata": {
        "id": "m3-ti_WZWX11"
      },
      "source": [
        ""
      ],
      "execution_count": 2,
      "outputs": []
    },
    {
      "cell_type": "code",
      "metadata": {
        "id": "zvpLP30WWbP0"
      },
      "source": [
        "from sklearn.decomposition import PCA\n",
        "from sklearn import preprocessing\n",
        "from sklearn.model_selection import train_test_split\n",
        "from sklearn import tree\n",
        "from sklearn.tree import DecisionTreeClassifier\n",
        "from sklearn.neighbors import KNeighborsClassifier\n",
        "from sklearn import naive_bayes\n",
        "from sklearn.preprocessing import StandardScaler\n",
        "from sklearn import metrics\n",
        "from sklearn.metrics import precision_score, confusion_matrix,roc_curve, precision_recall_curve, accuracy_score"
      ],
      "execution_count": 3,
      "outputs": []
    },
    {
      "cell_type": "markdown",
      "metadata": {
        "id": "mpGKB9qrWhJW"
      },
      "source": [
        "# **2. Chargement des données**"
      ]
    },
    {
      "cell_type": "code",
      "metadata": {
        "id": "-hs0yjDvWl_T"
      },
      "source": [
        "data = pd.read_csv('/content/HCV-Egy-Data.csv')"
      ],
      "execution_count": 4,
      "outputs": []
    },
    {
      "cell_type": "code",
      "metadata": {
        "colab": {
          "base_uri": "https://localhost:8080/",
          "height": 258
        },
        "id": "sWaRooieW-BN",
        "outputId": "eb5104cd-ec6e-4c77-a471-b13890cee5c8"
      },
      "source": [
        "data.head()"
      ],
      "execution_count": 5,
      "outputs": [
        {
          "output_type": "execute_result",
          "data": {
            "text/html": [
              "<div>\n",
              "<style scoped>\n",
              "    .dataframe tbody tr th:only-of-type {\n",
              "        vertical-align: middle;\n",
              "    }\n",
              "\n",
              "    .dataframe tbody tr th {\n",
              "        vertical-align: top;\n",
              "    }\n",
              "\n",
              "    .dataframe thead th {\n",
              "        text-align: right;\n",
              "    }\n",
              "</style>\n",
              "<table border=\"1\" class=\"dataframe\">\n",
              "  <thead>\n",
              "    <tr style=\"text-align: right;\">\n",
              "      <th></th>\n",
              "      <th>Age</th>\n",
              "      <th>Gender</th>\n",
              "      <th>BMI</th>\n",
              "      <th>Fever</th>\n",
              "      <th>Nausea/Vomting</th>\n",
              "      <th>Headache</th>\n",
              "      <th>Diarrhea</th>\n",
              "      <th>Fatigue &amp; generalized bone ache</th>\n",
              "      <th>Jaundice</th>\n",
              "      <th>Epigastric pain</th>\n",
              "      <th>WBC</th>\n",
              "      <th>RBC</th>\n",
              "      <th>HGB</th>\n",
              "      <th>Plat</th>\n",
              "      <th>AST 1</th>\n",
              "      <th>ALT 1</th>\n",
              "      <th>ALT4</th>\n",
              "      <th>ALT 12</th>\n",
              "      <th>ALT 24</th>\n",
              "      <th>ALT 36</th>\n",
              "      <th>ALT 48</th>\n",
              "      <th>ALT after 24 w</th>\n",
              "      <th>RNA Base</th>\n",
              "      <th>RNA 4</th>\n",
              "      <th>RNA 12</th>\n",
              "      <th>RNA EOT</th>\n",
              "      <th>RNA EF</th>\n",
              "      <th>Baseline histological Grading</th>\n",
              "      <th>Baselinehistological staging</th>\n",
              "    </tr>\n",
              "  </thead>\n",
              "  <tbody>\n",
              "    <tr>\n",
              "      <th>0</th>\n",
              "      <td>56</td>\n",
              "      <td>1</td>\n",
              "      <td>35</td>\n",
              "      <td>2</td>\n",
              "      <td>1</td>\n",
              "      <td>1</td>\n",
              "      <td>1</td>\n",
              "      <td>2</td>\n",
              "      <td>2</td>\n",
              "      <td>2</td>\n",
              "      <td>7425</td>\n",
              "      <td>4248807.0</td>\n",
              "      <td>14</td>\n",
              "      <td>112132.0</td>\n",
              "      <td>99</td>\n",
              "      <td>84</td>\n",
              "      <td>52.0</td>\n",
              "      <td>109</td>\n",
              "      <td>81</td>\n",
              "      <td>5</td>\n",
              "      <td>5</td>\n",
              "      <td>5</td>\n",
              "      <td>655330</td>\n",
              "      <td>634536</td>\n",
              "      <td>288194</td>\n",
              "      <td>5</td>\n",
              "      <td>5</td>\n",
              "      <td>13</td>\n",
              "      <td>2</td>\n",
              "    </tr>\n",
              "    <tr>\n",
              "      <th>1</th>\n",
              "      <td>46</td>\n",
              "      <td>1</td>\n",
              "      <td>29</td>\n",
              "      <td>1</td>\n",
              "      <td>2</td>\n",
              "      <td>2</td>\n",
              "      <td>1</td>\n",
              "      <td>2</td>\n",
              "      <td>2</td>\n",
              "      <td>1</td>\n",
              "      <td>12101</td>\n",
              "      <td>4429425.0</td>\n",
              "      <td>10</td>\n",
              "      <td>129367.0</td>\n",
              "      <td>91</td>\n",
              "      <td>123</td>\n",
              "      <td>95.0</td>\n",
              "      <td>75</td>\n",
              "      <td>113</td>\n",
              "      <td>57</td>\n",
              "      <td>123</td>\n",
              "      <td>44</td>\n",
              "      <td>40620</td>\n",
              "      <td>538635</td>\n",
              "      <td>637056</td>\n",
              "      <td>336804</td>\n",
              "      <td>31085</td>\n",
              "      <td>4</td>\n",
              "      <td>2</td>\n",
              "    </tr>\n",
              "    <tr>\n",
              "      <th>2</th>\n",
              "      <td>57</td>\n",
              "      <td>1</td>\n",
              "      <td>33</td>\n",
              "      <td>2</td>\n",
              "      <td>2</td>\n",
              "      <td>2</td>\n",
              "      <td>2</td>\n",
              "      <td>1</td>\n",
              "      <td>1</td>\n",
              "      <td>1</td>\n",
              "      <td>4178</td>\n",
              "      <td>4621191.0</td>\n",
              "      <td>12</td>\n",
              "      <td>151522.0</td>\n",
              "      <td>113</td>\n",
              "      <td>49</td>\n",
              "      <td>95.0</td>\n",
              "      <td>107</td>\n",
              "      <td>116</td>\n",
              "      <td>5</td>\n",
              "      <td>5</td>\n",
              "      <td>5</td>\n",
              "      <td>571148</td>\n",
              "      <td>661346</td>\n",
              "      <td>5</td>\n",
              "      <td>735945</td>\n",
              "      <td>558829</td>\n",
              "      <td>4</td>\n",
              "      <td>4</td>\n",
              "    </tr>\n",
              "    <tr>\n",
              "      <th>3</th>\n",
              "      <td>49</td>\n",
              "      <td>2</td>\n",
              "      <td>33</td>\n",
              "      <td>1</td>\n",
              "      <td>2</td>\n",
              "      <td>1</td>\n",
              "      <td>2</td>\n",
              "      <td>1</td>\n",
              "      <td>2</td>\n",
              "      <td>1</td>\n",
              "      <td>6490</td>\n",
              "      <td>4794631.0</td>\n",
              "      <td>10</td>\n",
              "      <td>146457.0</td>\n",
              "      <td>43</td>\n",
              "      <td>64</td>\n",
              "      <td>109.0</td>\n",
              "      <td>80</td>\n",
              "      <td>88</td>\n",
              "      <td>48</td>\n",
              "      <td>77</td>\n",
              "      <td>33</td>\n",
              "      <td>1041941</td>\n",
              "      <td>449939</td>\n",
              "      <td>585688</td>\n",
              "      <td>744463</td>\n",
              "      <td>582301</td>\n",
              "      <td>10</td>\n",
              "      <td>3</td>\n",
              "    </tr>\n",
              "    <tr>\n",
              "      <th>4</th>\n",
              "      <td>59</td>\n",
              "      <td>1</td>\n",
              "      <td>32</td>\n",
              "      <td>1</td>\n",
              "      <td>1</td>\n",
              "      <td>2</td>\n",
              "      <td>1</td>\n",
              "      <td>2</td>\n",
              "      <td>2</td>\n",
              "      <td>2</td>\n",
              "      <td>3661</td>\n",
              "      <td>4606375.0</td>\n",
              "      <td>11</td>\n",
              "      <td>187684.0</td>\n",
              "      <td>99</td>\n",
              "      <td>104</td>\n",
              "      <td>67.0</td>\n",
              "      <td>48</td>\n",
              "      <td>120</td>\n",
              "      <td>94</td>\n",
              "      <td>90</td>\n",
              "      <td>30</td>\n",
              "      <td>660410</td>\n",
              "      <td>738756</td>\n",
              "      <td>3731527</td>\n",
              "      <td>338946</td>\n",
              "      <td>242861</td>\n",
              "      <td>11</td>\n",
              "      <td>1</td>\n",
              "    </tr>\n",
              "  </tbody>\n",
              "</table>\n",
              "</div>"
            ],
            "text/plain": [
              "   Age   Gender  ...  Baseline histological Grading  Baselinehistological staging\n",
              "0    56       1  ...                             13                             2\n",
              "1    46       1  ...                              4                             2\n",
              "2    57       1  ...                              4                             4\n",
              "3    49       2  ...                             10                             3\n",
              "4    59       1  ...                             11                             1\n",
              "\n",
              "[5 rows x 29 columns]"
            ]
          },
          "metadata": {},
          "execution_count": 5
        }
      ]
    },
    {
      "cell_type": "markdown",
      "metadata": {
        "id": "GsrAw5Wa2Sqb"
      },
      "source": [
        "# **3.Réconciliation des données (Data Wrangling)**"
      ]
    },
    {
      "cell_type": "markdown",
      "metadata": {
        "id": "I29LMTMRYC1H"
      },
      "source": [
        "# **3.1.Exploration des données**"
      ]
    },
    {
      "cell_type": "code",
      "metadata": {
        "colab": {
          "base_uri": "https://localhost:8080/"
        },
        "id": "sUa1eD6OYP8h",
        "outputId": "a4ecbc6f-4381-4128-99fd-655d0e7efcb4"
      },
      "source": [
        "data.shape #(nombre de lignes, nombre de colonnes)"
      ],
      "execution_count": 6,
      "outputs": [
        {
          "output_type": "execute_result",
          "data": {
            "text/plain": [
              "(1385, 29)"
            ]
          },
          "metadata": {},
          "execution_count": 6
        }
      ]
    },
    {
      "cell_type": "code",
      "metadata": {
        "id": "rG1eBY79YGL3",
        "colab": {
          "base_uri": "https://localhost:8080/"
        },
        "outputId": "23c835b8-44de-4ad9-807a-47c8c2b948ed"
      },
      "source": [
        "data.columns"
      ],
      "execution_count": 7,
      "outputs": [
        {
          "output_type": "execute_result",
          "data": {
            "text/plain": [
              "Index(['Age ', 'Gender', 'BMI', 'Fever', 'Nausea/Vomting', 'Headache ',\n",
              "       'Diarrhea ', 'Fatigue & generalized bone ache ', 'Jaundice ',\n",
              "       'Epigastric pain ', 'WBC', 'RBC', 'HGB', 'Plat', 'AST 1', 'ALT 1',\n",
              "       'ALT4', 'ALT 12', 'ALT 24', 'ALT 36', 'ALT 48', 'ALT after 24 w',\n",
              "       'RNA Base', 'RNA 4', 'RNA 12', 'RNA EOT', 'RNA EF',\n",
              "       'Baseline histological Grading', 'Baselinehistological staging'],\n",
              "      dtype='object')"
            ]
          },
          "metadata": {},
          "execution_count": 7
        }
      ]
    },
    {
      "cell_type": "code",
      "metadata": {
        "id": "WJcisKTUazNk",
        "colab": {
          "base_uri": "https://localhost:8080/",
          "height": 351
        },
        "outputId": "f78f89a2-df2f-4d8d-8ee9-89ae8dd4e8a0"
      },
      "source": [
        "data.describe()"
      ],
      "execution_count": 8,
      "outputs": [
        {
          "output_type": "execute_result",
          "data": {
            "text/html": [
              "<div>\n",
              "<style scoped>\n",
              "    .dataframe tbody tr th:only-of-type {\n",
              "        vertical-align: middle;\n",
              "    }\n",
              "\n",
              "    .dataframe tbody tr th {\n",
              "        vertical-align: top;\n",
              "    }\n",
              "\n",
              "    .dataframe thead th {\n",
              "        text-align: right;\n",
              "    }\n",
              "</style>\n",
              "<table border=\"1\" class=\"dataframe\">\n",
              "  <thead>\n",
              "    <tr style=\"text-align: right;\">\n",
              "      <th></th>\n",
              "      <th>Age</th>\n",
              "      <th>Gender</th>\n",
              "      <th>BMI</th>\n",
              "      <th>Fever</th>\n",
              "      <th>Nausea/Vomting</th>\n",
              "      <th>Headache</th>\n",
              "      <th>Diarrhea</th>\n",
              "      <th>Fatigue &amp; generalized bone ache</th>\n",
              "      <th>Jaundice</th>\n",
              "      <th>Epigastric pain</th>\n",
              "      <th>WBC</th>\n",
              "      <th>RBC</th>\n",
              "      <th>HGB</th>\n",
              "      <th>Plat</th>\n",
              "      <th>AST 1</th>\n",
              "      <th>ALT 1</th>\n",
              "      <th>ALT4</th>\n",
              "      <th>ALT 12</th>\n",
              "      <th>ALT 24</th>\n",
              "      <th>ALT 36</th>\n",
              "      <th>ALT 48</th>\n",
              "      <th>ALT after 24 w</th>\n",
              "      <th>RNA Base</th>\n",
              "      <th>RNA 4</th>\n",
              "      <th>RNA 12</th>\n",
              "      <th>RNA EOT</th>\n",
              "      <th>RNA EF</th>\n",
              "      <th>Baseline histological Grading</th>\n",
              "      <th>Baselinehistological staging</th>\n",
              "    </tr>\n",
              "  </thead>\n",
              "  <tbody>\n",
              "    <tr>\n",
              "      <th>count</th>\n",
              "      <td>1385.000000</td>\n",
              "      <td>1385.000000</td>\n",
              "      <td>1385.000000</td>\n",
              "      <td>1385.000000</td>\n",
              "      <td>1385.000000</td>\n",
              "      <td>1385.000000</td>\n",
              "      <td>1385.000000</td>\n",
              "      <td>1385.000000</td>\n",
              "      <td>1385.000000</td>\n",
              "      <td>1385.000000</td>\n",
              "      <td>1385.000000</td>\n",
              "      <td>1.385000e+03</td>\n",
              "      <td>1385.000000</td>\n",
              "      <td>1385.00000</td>\n",
              "      <td>1385.000000</td>\n",
              "      <td>1385.000000</td>\n",
              "      <td>1385.000000</td>\n",
              "      <td>1385.000000</td>\n",
              "      <td>1385.000000</td>\n",
              "      <td>1385.000000</td>\n",
              "      <td>1385.000000</td>\n",
              "      <td>1385.000000</td>\n",
              "      <td>1.385000e+03</td>\n",
              "      <td>1.385000e+03</td>\n",
              "      <td>1.385000e+03</td>\n",
              "      <td>1385.000000</td>\n",
              "      <td>1385.000000</td>\n",
              "      <td>1385.000000</td>\n",
              "      <td>1385.000000</td>\n",
              "    </tr>\n",
              "    <tr>\n",
              "      <th>mean</th>\n",
              "      <td>46.319134</td>\n",
              "      <td>1.489531</td>\n",
              "      <td>28.608664</td>\n",
              "      <td>1.515523</td>\n",
              "      <td>1.502527</td>\n",
              "      <td>1.496029</td>\n",
              "      <td>1.502527</td>\n",
              "      <td>1.498917</td>\n",
              "      <td>1.501083</td>\n",
              "      <td>1.503971</td>\n",
              "      <td>7533.386282</td>\n",
              "      <td>4.422130e+06</td>\n",
              "      <td>12.587726</td>\n",
              "      <td>158348.06065</td>\n",
              "      <td>82.774729</td>\n",
              "      <td>83.916245</td>\n",
              "      <td>83.405776</td>\n",
              "      <td>83.510469</td>\n",
              "      <td>83.709025</td>\n",
              "      <td>83.117690</td>\n",
              "      <td>83.629603</td>\n",
              "      <td>33.438267</td>\n",
              "      <td>5.909512e+05</td>\n",
              "      <td>6.008956e+05</td>\n",
              "      <td>2.887536e+05</td>\n",
              "      <td>287660.336462</td>\n",
              "      <td>291378.290975</td>\n",
              "      <td>9.761733</td>\n",
              "      <td>2.536462</td>\n",
              "    </tr>\n",
              "    <tr>\n",
              "      <th>std</th>\n",
              "      <td>8.781506</td>\n",
              "      <td>0.500071</td>\n",
              "      <td>4.076215</td>\n",
              "      <td>0.499939</td>\n",
              "      <td>0.500174</td>\n",
              "      <td>0.500165</td>\n",
              "      <td>0.500174</td>\n",
              "      <td>0.500179</td>\n",
              "      <td>0.500179</td>\n",
              "      <td>0.500165</td>\n",
              "      <td>2668.220333</td>\n",
              "      <td>3.463577e+05</td>\n",
              "      <td>1.713511</td>\n",
              "      <td>38794.78555</td>\n",
              "      <td>25.993242</td>\n",
              "      <td>25.922800</td>\n",
              "      <td>26.529730</td>\n",
              "      <td>26.064478</td>\n",
              "      <td>26.205994</td>\n",
              "      <td>26.399031</td>\n",
              "      <td>26.223955</td>\n",
              "      <td>7.073569</td>\n",
              "      <td>3.539354e+05</td>\n",
              "      <td>3.623151e+05</td>\n",
              "      <td>2.853507e+05</td>\n",
              "      <td>264559.525070</td>\n",
              "      <td>267700.691713</td>\n",
              "      <td>4.023896</td>\n",
              "      <td>1.121392</td>\n",
              "    </tr>\n",
              "    <tr>\n",
              "      <th>min</th>\n",
              "      <td>32.000000</td>\n",
              "      <td>1.000000</td>\n",
              "      <td>22.000000</td>\n",
              "      <td>1.000000</td>\n",
              "      <td>1.000000</td>\n",
              "      <td>1.000000</td>\n",
              "      <td>1.000000</td>\n",
              "      <td>1.000000</td>\n",
              "      <td>1.000000</td>\n",
              "      <td>1.000000</td>\n",
              "      <td>2991.000000</td>\n",
              "      <td>3.816422e+06</td>\n",
              "      <td>10.000000</td>\n",
              "      <td>93013.00000</td>\n",
              "      <td>39.000000</td>\n",
              "      <td>39.000000</td>\n",
              "      <td>39.000000</td>\n",
              "      <td>39.000000</td>\n",
              "      <td>39.000000</td>\n",
              "      <td>5.000000</td>\n",
              "      <td>5.000000</td>\n",
              "      <td>5.000000</td>\n",
              "      <td>1.100000e+01</td>\n",
              "      <td>5.000000e+00</td>\n",
              "      <td>5.000000e+00</td>\n",
              "      <td>5.000000</td>\n",
              "      <td>5.000000</td>\n",
              "      <td>3.000000</td>\n",
              "      <td>1.000000</td>\n",
              "    </tr>\n",
              "    <tr>\n",
              "      <th>25%</th>\n",
              "      <td>39.000000</td>\n",
              "      <td>1.000000</td>\n",
              "      <td>25.000000</td>\n",
              "      <td>1.000000</td>\n",
              "      <td>1.000000</td>\n",
              "      <td>1.000000</td>\n",
              "      <td>1.000000</td>\n",
              "      <td>1.000000</td>\n",
              "      <td>1.000000</td>\n",
              "      <td>1.000000</td>\n",
              "      <td>5219.000000</td>\n",
              "      <td>4.121374e+06</td>\n",
              "      <td>11.000000</td>\n",
              "      <td>124479.00000</td>\n",
              "      <td>60.000000</td>\n",
              "      <td>62.000000</td>\n",
              "      <td>61.000000</td>\n",
              "      <td>60.000000</td>\n",
              "      <td>61.000000</td>\n",
              "      <td>61.000000</td>\n",
              "      <td>61.000000</td>\n",
              "      <td>28.000000</td>\n",
              "      <td>2.692530e+05</td>\n",
              "      <td>2.708930e+05</td>\n",
              "      <td>5.000000e+00</td>\n",
              "      <td>5.000000</td>\n",
              "      <td>5.000000</td>\n",
              "      <td>6.000000</td>\n",
              "      <td>2.000000</td>\n",
              "    </tr>\n",
              "    <tr>\n",
              "      <th>50%</th>\n",
              "      <td>46.000000</td>\n",
              "      <td>1.000000</td>\n",
              "      <td>29.000000</td>\n",
              "      <td>2.000000</td>\n",
              "      <td>2.000000</td>\n",
              "      <td>1.000000</td>\n",
              "      <td>2.000000</td>\n",
              "      <td>1.000000</td>\n",
              "      <td>2.000000</td>\n",
              "      <td>2.000000</td>\n",
              "      <td>7498.000000</td>\n",
              "      <td>4.438465e+06</td>\n",
              "      <td>13.000000</td>\n",
              "      <td>157916.00000</td>\n",
              "      <td>83.000000</td>\n",
              "      <td>83.000000</td>\n",
              "      <td>82.000000</td>\n",
              "      <td>84.000000</td>\n",
              "      <td>83.000000</td>\n",
              "      <td>84.000000</td>\n",
              "      <td>83.000000</td>\n",
              "      <td>34.000000</td>\n",
              "      <td>5.931030e+05</td>\n",
              "      <td>5.978690e+05</td>\n",
              "      <td>2.343590e+05</td>\n",
              "      <td>251376.000000</td>\n",
              "      <td>244049.000000</td>\n",
              "      <td>10.000000</td>\n",
              "      <td>3.000000</td>\n",
              "    </tr>\n",
              "    <tr>\n",
              "      <th>75%</th>\n",
              "      <td>54.000000</td>\n",
              "      <td>2.000000</td>\n",
              "      <td>32.000000</td>\n",
              "      <td>2.000000</td>\n",
              "      <td>2.000000</td>\n",
              "      <td>2.000000</td>\n",
              "      <td>2.000000</td>\n",
              "      <td>2.000000</td>\n",
              "      <td>2.000000</td>\n",
              "      <td>2.000000</td>\n",
              "      <td>9902.000000</td>\n",
              "      <td>4.721279e+06</td>\n",
              "      <td>14.000000</td>\n",
              "      <td>190314.00000</td>\n",
              "      <td>105.000000</td>\n",
              "      <td>106.000000</td>\n",
              "      <td>107.000000</td>\n",
              "      <td>106.000000</td>\n",
              "      <td>107.000000</td>\n",
              "      <td>106.000000</td>\n",
              "      <td>106.000000</td>\n",
              "      <td>40.000000</td>\n",
              "      <td>8.867910e+05</td>\n",
              "      <td>9.090930e+05</td>\n",
              "      <td>5.248190e+05</td>\n",
              "      <td>517806.000000</td>\n",
              "      <td>527864.000000</td>\n",
              "      <td>13.000000</td>\n",
              "      <td>4.000000</td>\n",
              "    </tr>\n",
              "    <tr>\n",
              "      <th>max</th>\n",
              "      <td>61.000000</td>\n",
              "      <td>2.000000</td>\n",
              "      <td>35.000000</td>\n",
              "      <td>2.000000</td>\n",
              "      <td>2.000000</td>\n",
              "      <td>2.000000</td>\n",
              "      <td>2.000000</td>\n",
              "      <td>2.000000</td>\n",
              "      <td>2.000000</td>\n",
              "      <td>2.000000</td>\n",
              "      <td>12101.000000</td>\n",
              "      <td>5.018451e+06</td>\n",
              "      <td>15.000000</td>\n",
              "      <td>226464.00000</td>\n",
              "      <td>128.000000</td>\n",
              "      <td>128.000000</td>\n",
              "      <td>128.000000</td>\n",
              "      <td>128.000000</td>\n",
              "      <td>128.000000</td>\n",
              "      <td>128.000000</td>\n",
              "      <td>128.000000</td>\n",
              "      <td>45.000000</td>\n",
              "      <td>1.201086e+06</td>\n",
              "      <td>1.201715e+06</td>\n",
              "      <td>3.731527e+06</td>\n",
              "      <td>808450.000000</td>\n",
              "      <td>810333.000000</td>\n",
              "      <td>16.000000</td>\n",
              "      <td>4.000000</td>\n",
              "    </tr>\n",
              "  </tbody>\n",
              "</table>\n",
              "</div>"
            ],
            "text/plain": [
              "              Age   ...  Baselinehistological staging\n",
              "count  1385.000000  ...                   1385.000000\n",
              "mean     46.319134  ...                      2.536462\n",
              "std       8.781506  ...                      1.121392\n",
              "min      32.000000  ...                      1.000000\n",
              "25%      39.000000  ...                      2.000000\n",
              "50%      46.000000  ...                      3.000000\n",
              "75%      54.000000  ...                      4.000000\n",
              "max      61.000000  ...                      4.000000\n",
              "\n",
              "[8 rows x 29 columns]"
            ]
          },
          "metadata": {},
          "execution_count": 8
        }
      ]
    },
    {
      "cell_type": "markdown",
      "metadata": {
        "id": "3oqgB4zToNHo"
      },
      "source": [
        "# **3.2.Renommer quelques attributs et la classe**"
      ]
    },
    {
      "cell_type": "code",
      "metadata": {
        "id": "8mGShLOhoUx5"
      },
      "source": [
        "data.rename(columns={'Baselinehistological staging':'Classe'}, inplace=True)\n",
        "data.rename(columns={'Age ':'Age'}, inplace=True)\n",
        "data.rename(columns={'Epigastric pain ':'Epigastric pain'}, inplace=True)"
      ],
      "execution_count": 9,
      "outputs": []
    },
    {
      "cell_type": "markdown",
      "metadata": {
        "id": "LkbspIGjoDHc"
      },
      "source": [
        "# **3.3.Vérification de la distribution des différentes valeurs de la classe**"
      ]
    },
    {
      "cell_type": "code",
      "metadata": {
        "id": "3WC9pnn5oKyB",
        "colab": {
          "base_uri": "https://localhost:8080/",
          "height": 282
        },
        "outputId": "2f855b80-d39a-4de0-c5d2-35efab231e04"
      },
      "source": [
        "data.Classe.hist()"
      ],
      "execution_count": 10,
      "outputs": [
        {
          "output_type": "execute_result",
          "data": {
            "text/plain": [
              "<matplotlib.axes._subplots.AxesSubplot at 0x7f19b7092b50>"
            ]
          },
          "metadata": {},
          "execution_count": 10
        },
        {
          "output_type": "display_data",
          "data": {
            "image/png": "[encoded data removed]",
            "text/plain": [
              "<Figure size 432x288 with 1 Axes>"
            ]
          },
          "metadata": {
            "needs_background": "light"
          }
        }
      ]
    },
    {
      "cell_type": "markdown",
      "metadata": {
        "id": "Ozu_FWupoxtn"
      },
      "source": [
        "# **3.4. Des valeurs nulles à s’en débarrasser ou remplir?**"
      ]
    },
    {
      "cell_type": "code",
      "metadata": {
        "id": "ykaQhSoAbOvK",
        "colab": {
          "base_uri": "https://localhost:8080/"
        },
        "outputId": "91622931-4fab-4281-b606-c37c98671336"
      },
      "source": [
        "data.info() "
      ],
      "execution_count": 11,
      "outputs": [
        {
          "output_type": "stream",
          "name": "stdout",
          "text": [
            "<class 'pandas.core.frame.DataFrame'>\n",
            "RangeIndex: 1385 entries, 0 to 1384\n",
            "Data columns (total 29 columns):\n",
            " #   Column                            Non-Null Count  Dtype  \n",
            "---  ------                            --------------  -----  \n",
            " 0   Age                               1385 non-null   int64  \n",
            " 1   Gender                            1385 non-null   int64  \n",
            " 2   BMI                               1385 non-null   int64  \n",
            " 3   Fever                             1385 non-null   int64  \n",
            " 4   Nausea/Vomting                    1385 non-null   int64  \n",
            " 5   Headache                          1385 non-null   int64  \n",
            " 6   Diarrhea                          1385 non-null   int64  \n",
            " 7   Fatigue & generalized bone ache   1385 non-null   int64  \n",
            " 8   Jaundice                          1385 non-null   int64  \n",
            " 9   Epigastric pain                   1385 non-null   int64  \n",
            " 10  WBC                               1385 non-null   int64  \n",
            " 11  RBC                               1385 non-null   float64\n",
            " 12  HGB                               1385 non-null   int64  \n",
            " 13  Plat                              1385 non-null   float64\n",
            " 14  AST 1                             1385 non-null   int64  \n",
            " 15  ALT 1                             1385 non-null   int64  \n",
            " 16  ALT4                              1385 non-null   float64\n",
            " 17  ALT 12                            1385 non-null   int64  \n",
            " 18  ALT 24                            1385 non-null   int64  \n",
            " 19  ALT 36                            1385 non-null   int64  \n",
            " 20  ALT 48                            1385 non-null   int64  \n",
            " 21  ALT after 24 w                    1385 non-null   int64  \n",
            " 22  RNA Base                          1385 non-null   int64  \n",
            " 23  RNA 4                             1385 non-null   int64  \n",
            " 24  RNA 12                            1385 non-null   int64  \n",
            " 25  RNA EOT                           1385 non-null   int64  \n",
            " 26  RNA EF                            1385 non-null   int64  \n",
            " 27  Baseline histological Grading     1385 non-null   int64  \n",
            " 28  Classe                            1385 non-null   int64  \n",
            "dtypes: float64(3), int64(26)\n",
            "memory usage: 313.9 KB\n"
          ]
        }
      ]
    },
    {
      "cell_type": "code",
      "metadata": {
        "id": "Ugmo-nv0bjkG",
        "colab": {
          "base_uri": "https://localhost:8080/"
        },
        "outputId": "26b2f95e-5d7e-4e77-b4a4-38da585d4e4a"
      },
      "source": [
        "data.isnull().sum() # which \"is null\"?"
      ],
      "execution_count": 12,
      "outputs": [
        {
          "output_type": "execute_result",
          "data": {
            "text/plain": [
              "Age                                 0\n",
              "Gender                              0\n",
              "BMI                                 0\n",
              "Fever                               0\n",
              "Nausea/Vomting                      0\n",
              "Headache                            0\n",
              "Diarrhea                            0\n",
              "Fatigue & generalized bone ache     0\n",
              "Jaundice                            0\n",
              "Epigastric pain                     0\n",
              "WBC                                 0\n",
              "RBC                                 0\n",
              "HGB                                 0\n",
              "Plat                                0\n",
              "AST 1                               0\n",
              "ALT 1                               0\n",
              "ALT4                                0\n",
              "ALT 12                              0\n",
              "ALT 24                              0\n",
              "ALT 36                              0\n",
              "ALT 48                              0\n",
              "ALT after 24 w                      0\n",
              "RNA Base                            0\n",
              "RNA 4                               0\n",
              "RNA 12                              0\n",
              "RNA EOT                             0\n",
              "RNA EF                              0\n",
              "Baseline histological Grading       0\n",
              "Classe                              0\n",
              "dtype: int64"
            ]
          },
          "metadata": {},
          "execution_count": 12
        }
      ]
    },
    {
      "cell_type": "code",
      "metadata": {
        "id": "xPkULODfb7la",
        "colab": {
          "base_uri": "https://localhost:8080/"
        },
        "outputId": "812a9470-8f6e-45a9-c605-48aa1a523755"
      },
      "source": [
        "data.isna().sum().sum()  #which \"is Na values\" ,detect missing values"
      ],
      "execution_count": 13,
      "outputs": [
        {
          "output_type": "execute_result",
          "data": {
            "text/plain": [
              "0"
            ]
          },
          "metadata": {},
          "execution_count": 13
        }
      ]
    },
    {
      "cell_type": "markdown",
      "metadata": {
        "id": "01gPdKMZo5oB"
      },
      "source": [
        "# **3.5. Observer les corrélations**"
      ]
    },
    {
      "cell_type": "code",
      "metadata": {
        "id": "2gh29_m7pZjG",
        "colab": {
          "base_uri": "https://localhost:8080/",
          "height": 959
        },
        "outputId": "1356864a-eed9-4280-dc01-ce4093d02671"
      },
      "source": [
        "plt.figure( figsize = (29,29))\n",
        "sns.heatmap(data.corr()) "
      ],
      "execution_count": 14,
      "outputs": [
        {
          "output_type": "execute_result",
          "data": {
            "text/plain": [
              "<matplotlib.axes._subplots.AxesSubplot at 0x7f19b4770250>"
            ]
          },
          "metadata": {},
          "execution_count": 14
        },
        {
          "output_type": "display_data",
          "data": {
            "image/png": "[encoded data removed]",
            "text/plain": [
              "<Figure size 2088x2088 with 2 Axes>"
            ]
          },
          "metadata": {
            "needs_background": "light"
          }
        }
      ]
    },
    {
      "cell_type": "code",
      "metadata": {
        "id": "UbYAz3GWr83s",
        "colab": {
          "base_uri": "https://localhost:8080/"
        },
        "outputId": "247c82a1-5f86-4f8d-bd07-6500c085c34d"
      },
      "source": [
        "print(data.corr()) #en chiffres c'est plus lisible"
      ],
      "execution_count": 15,
      "outputs": [
        {
          "output_type": "stream",
          "name": "stdout",
          "text": [
            "                                       Age  ...    Classe\n",
            "Age                               1.000000  ... -0.019599\n",
            "Gender                           -0.009934  ...  0.011955\n",
            "BMI                              -0.025353  ... -0.057259\n",
            "Fever                            -0.021208  ... -0.030975\n",
            "Nausea/Vomting                   -0.025024  ...  0.054906\n",
            "Headache                          0.017562  ... -0.001996\n",
            "Diarrhea                          0.043574  ... -0.005639\n",
            "Fatigue & generalized bone ache  -0.007817  ...  0.014563\n",
            "Jaundice                          0.010285  ...  0.020219\n",
            "Epigastric pain                  -0.010817  ... -0.052110\n",
            "WBC                               0.014310  ...  0.017945\n",
            "RBC                              -0.002162  ...  0.009623\n",
            "HGB                              -0.012810  ...  0.002752\n",
            "Plat                             -0.002225  ... -0.017284\n",
            "AST 1                            -0.016633  ... -0.025126\n",
            "ALT 1                             0.005723  ...  0.036867\n",
            "ALT4                              0.030260  ... -0.014997\n",
            "ALT 12                            0.019046  ...  0.000809\n",
            "ALT 24                            0.002712  ... -0.004888\n",
            "ALT 36                           -0.008721  ... -0.006430\n",
            "ALT 48                            0.027557  ... -0.013533\n",
            "ALT after 24 w                    0.003865  ...  0.033919\n",
            "RNA Base                          0.022775  ...  0.029411\n",
            "RNA 4                            -0.012699  ... -0.032946\n",
            "RNA 12                            0.001578  ...  0.034449\n",
            "RNA EOT                          -0.048702  ... -0.017486\n",
            "RNA EF                           -0.030297  ...  0.030519\n",
            "Baseline histological Grading    -0.040705  ... -0.047072\n",
            "Classe                           -0.019599  ...  1.000000\n",
            "\n",
            "[29 rows x 29 columns]\n"
          ]
        }
      ]
    },
    {
      "cell_type": "code",
      "metadata": {
        "id": "I-hWp5L3v8Ov"
      },
      "source": [
        "data.drop(['ALT 12'], axis=1, inplace=True)"
      ],
      "execution_count": 16,
      "outputs": []
    },
    {
      "cell_type": "markdown",
      "metadata": {
        "id": "LeuQm4Vnv81c"
      },
      "source": [
        "# **3.6.Transformation des données**"
      ]
    },
    {
      "cell_type": "markdown",
      "metadata": {
        "id": "I8Ti7ihLwG8E"
      },
      "source": [
        "**Changement du type des attributs qualitatives**"
      ]
    },
    {
      "cell_type": "code",
      "metadata": {
        "id": "-w4in5adwNvk"
      },
      "source": [
        "colonnes =['Gender','Fever','Nausea/Vomting','Headache ','Diarrhea ','Fatigue & generalized bone ache ', 'Jaundice ','Epigastric pain', 'Classe']\n",
        "data[colonnes]= data[colonnes].astype('category')"
      ],
      "execution_count": 17,
      "outputs": []
    },
    {
      "cell_type": "markdown",
      "metadata": {
        "id": "dm4MLDwHw8yl"
      },
      "source": [
        "**Discrétisation des attributs quantitatifs**"
      ]
    },
    {
      "cell_type": "markdown",
      "metadata": {
        "id": "gC9SFjh900wG"
      },
      "source": [
        "\n",
        "\n",
        "**> Par la méthode qcut()**\n",
        "\n"
      ]
    },
    {
      "cell_type": "code",
      "metadata": {
        "id": "ZmElE3AjAUUs",
        "colab": {
          "base_uri": "https://localhost:8080/"
        },
        "outputId": "c18420ee-7b33-45e0-8b28-f8f2e306b07f"
      },
      "source": [
        "data[\"AgeQ\"]=pd.qcut(data.Age,7,labels=[\"1\",\"2\",\"3\",\"4\",\"5\",\"6\",\"7\"])\n",
        "data[\"AgeQ\"].describe()"
      ],
      "execution_count": 18,
      "outputs": [
        {
          "output_type": "execute_result",
          "data": {
            "text/plain": [
              "count     1385\n",
              "unique       7\n",
              "top          3\n",
              "freq       221\n",
              "Name: AgeQ, dtype: object"
            ]
          },
          "metadata": {},
          "execution_count": 18
        }
      ]
    },
    {
      "cell_type": "code",
      "metadata": {
        "id": "WLescwraQfgA",
        "colab": {
          "base_uri": "https://localhost:8080/"
        },
        "outputId": "30f17613-da62-4366-d72a-a68ebc81a550"
      },
      "source": [
        "data[\"BMIQ\"]=pd.qcut(data.BMI,5,labels=[\"1\",\"2\",\"3\",\"4\",\"5\"])\n",
        "data[\"BMIQ\"].describe()"
      ],
      "execution_count": 19,
      "outputs": [
        {
          "output_type": "execute_result",
          "data": {
            "text/plain": [
              "count     1385\n",
              "unique       5\n",
              "top          1\n",
              "freq       305\n",
              "Name: BMIQ, dtype: object"
            ]
          },
          "metadata": {},
          "execution_count": 19
        }
      ]
    },
    {
      "cell_type": "code",
      "metadata": {
        "id": "gvw18ir5QfdO",
        "colab": {
          "base_uri": "https://localhost:8080/"
        },
        "outputId": "b9e9c3d5-21ec-49d1-9bd7-4c3e6aabe7a1"
      },
      "source": [
        "data[\"WBCQ\"]=pd.qcut(data.WBC,3,labels=[\"1\",\"2\",\"3\"])\n",
        "data[\"WBCQ\"].describe()"
      ],
      "execution_count": 20,
      "outputs": [
        {
          "output_type": "execute_result",
          "data": {
            "text/plain": [
              "count     1385\n",
              "unique       3\n",
              "top          3\n",
              "freq       462\n",
              "Name: WBCQ, dtype: object"
            ]
          },
          "metadata": {},
          "execution_count": 20
        }
      ]
    },
    {
      "cell_type": "code",
      "metadata": {
        "id": "oljnCw7qj9Lq",
        "colab": {
          "base_uri": "https://localhost:8080/"
        },
        "outputId": "cc69cc87-0164-46d6-b741-8a69f3e1f768"
      },
      "source": [
        "data[\"RBCQ\"]=pd.qcut(data.RBC,3,labels=[\"1\",\"2\",\"3\"])\n",
        "data[\"RBCQ\"].describe()"
      ],
      "execution_count": 21,
      "outputs": [
        {
          "output_type": "execute_result",
          "data": {
            "text/plain": [
              "count     1385\n",
              "unique       3\n",
              "top          3\n",
              "freq       462\n",
              "Name: RBCQ, dtype: object"
            ]
          },
          "metadata": {},
          "execution_count": 21
        }
      ]
    },
    {
      "cell_type": "code",
      "metadata": {
        "id": "_xCvuf6vQfUs",
        "colab": {
          "base_uri": "https://localhost:8080/"
        },
        "outputId": "79f251b0-bdf5-40d2-bd48-baeca0471e3b"
      },
      "source": [
        "for i in data[\"Gender\"]:\n",
        "  if i==1:\n",
        "    data[\"HGBQ\"]=pd.qcut(data.HGB,3,labels=[\"1\",\"2\",\"3\"])\n",
        "  else:\n",
        "    data[\"HGBQ\"]=pd.qcut(data.HGB,3,labels=[\"1\",\"2\",\"3\"])\n",
        "data[\"HGBQ\"].describe()"
      ],
      "execution_count": 22,
      "outputs": [
        {
          "output_type": "execute_result",
          "data": {
            "text/plain": [
              "count     1385\n",
              "unique       3\n",
              "top          1\n",
              "freq       671\n",
              "Name: HGBQ, dtype: object"
            ]
          },
          "metadata": {},
          "execution_count": 22
        }
      ]
    },
    {
      "cell_type": "code",
      "metadata": {
        "id": "FRBJb9nNQezy",
        "colab": {
          "base_uri": "https://localhost:8080/"
        },
        "outputId": "de995ed8-90e0-445c-bb80-15087e295e09"
      },
      "source": [
        "data[\"PlatQ\"]=pd.qcut(data.Plat,3,labels=[\"1\",\"2\",\"3\"])\n",
        "data[\"PlatQ\"].describe()"
      ],
      "execution_count": 23,
      "outputs": [
        {
          "output_type": "execute_result",
          "data": {
            "text/plain": [
              "count     1385\n",
              "unique       3\n",
              "top          3\n",
              "freq       462\n",
              "Name: PlatQ, dtype: object"
            ]
          },
          "metadata": {},
          "execution_count": 23
        }
      ]
    },
    {
      "cell_type": "markdown",
      "metadata": {
        "id": "eHXM3mI_1pyh"
      },
      "source": [
        "\n",
        "\n",
        "> P**ar la définition d'une fonctio**n\n",
        "\n"
      ]
    },
    {
      "cell_type": "code",
      "metadata": {
        "id": "LVuiOQAg9yvg"
      },
      "source": [
        ""
      ],
      "execution_count": 23,
      "outputs": []
    },
    {
      "cell_type": "code",
      "metadata": {
        "id": "yfWB3HnYWq23"
      },
      "source": [
        "def reClassALT(ratio):\n",
        "    if (ratio < 20): return 1\n",
        "    else:\n",
        "        if (ratio < 40): return 2\n",
        "        else:\n",
        "            return 3\n",
        "data['AST 1'] = data['AST 1'].apply(reClassALT)\n",
        "data['ALT 1'] = data['ALT 1'].apply(reClassALT)\n",
        "data['ALT4'] = data['ALT4'].apply(reClassALT)\n",
        "data['ALT 24'] = data['ALT 24'].apply(reClassALT)\n",
        "data['ALT 36'] = data['ALT 36'].apply(reClassALT)\n",
        "data['ALT 48'] = data['ALT 48'].apply(reClassALT)\n",
        "data['ALT after 24 w'] = data['ALT after 24 w'].apply(reClassALT)"
      ],
      "execution_count": 24,
      "outputs": []
    },
    {
      "cell_type": "code",
      "metadata": {
        "id": "DPB3VZGJWqur",
        "colab": {
          "base_uri": "https://localhost:8080/"
        },
        "outputId": "fc8acc26-2d32-4466-e31a-ff7167df827b"
      },
      "source": [
        "data.columns #pour avoir les attributs sous les yeux pour l'écriture du code"
      ],
      "execution_count": 25,
      "outputs": [
        {
          "output_type": "execute_result",
          "data": {
            "text/plain": [
              "Index(['Age', 'Gender', 'BMI', 'Fever', 'Nausea/Vomting', 'Headache ',\n",
              "       'Diarrhea ', 'Fatigue & generalized bone ache ', 'Jaundice ',\n",
              "       'Epigastric pain', 'WBC', 'RBC', 'HGB', 'Plat', 'AST 1', 'ALT 1',\n",
              "       'ALT4', 'ALT 24', 'ALT 36', 'ALT 48', 'ALT after 24 w', 'RNA Base',\n",
              "       'RNA 4', 'RNA 12', 'RNA EOT', 'RNA EF', 'Baseline histological Grading',\n",
              "       'Classe', 'AgeQ', 'BMIQ', 'WBCQ', 'RBCQ', 'HGBQ', 'PlatQ'],\n",
              "      dtype='object')"
            ]
          },
          "metadata": {},
          "execution_count": 25
        }
      ]
    },
    {
      "cell_type": "code",
      "metadata": {
        "id": "EFTYezIKZIN7"
      },
      "source": [
        "def DisretRNA(ratio):\n",
        "  if (ratio <= 5): return 1\n",
        "  else:\n",
        "    return 2\n",
        " \n",
        "data['RNA Base'] = data['RNA Base'].apply(DisretRNA)\n",
        "data['RNA 4'] = data['RNA 4'].apply(DisretRNA)\n",
        "data['RNA 12'] = data['RNA 12'].apply(DisretRNA)\n",
        "data['RNA EOT'] = data['RNA EOT'].apply(DisretRNA)\n",
        "data['RNA EF'] = data['RNA EF'].apply(DisretRNA)"
      ],
      "execution_count": 26,
      "outputs": []
    },
    {
      "cell_type": "code",
      "metadata": {
        "colab": {
          "base_uri": "https://localhost:8080/"
        },
        "id": "s2TJq9Bwex7c",
        "outputId": "3a80ec9e-aad1-48cb-dc6f-824746fead6a"
      },
      "source": [
        "data.shape"
      ],
      "execution_count": 27,
      "outputs": [
        {
          "output_type": "execute_result",
          "data": {
            "text/plain": [
              "(1385, 34)"
            ]
          },
          "metadata": {},
          "execution_count": 27
        }
      ]
    },
    {
      "cell_type": "code",
      "metadata": {
        "id": "QDmprJT5qFRr"
      },
      "source": [
        "\n",
        "data.drop(['Age'], axis=1, inplace=True)\n",
        "data.drop(['BMI'], axis=1, inplace=True)\n",
        "data.drop(['WBC'], axis=1, inplace=True)\n",
        "data.drop(['RBC'], axis=1, inplace=True)\n",
        "data.drop(['Plat'], axis=1, inplace=True)\n",
        "data.drop(['HGB'], axis=1, inplace=True)"
      ],
      "execution_count": 28,
      "outputs": []
    },
    {
      "cell_type": "code",
      "metadata": {
        "colab": {
          "base_uri": "https://localhost:8080/"
        },
        "id": "2x9Ja28aqGOU",
        "outputId": "87388ec1-e763-499e-8d91-28de46c7a48a"
      },
      "source": [
        "data.shape"
      ],
      "execution_count": 29,
      "outputs": [
        {
          "output_type": "execute_result",
          "data": {
            "text/plain": [
              "(1385, 28)"
            ]
          },
          "metadata": {},
          "execution_count": 29
        }
      ]
    },
    {
      "cell_type": "markdown",
      "metadata": {
        "id": "DGG1c5P8mP7p"
      },
      "source": [
        "# **ESSAI K MODE**"
      ]
    },
    {
      "cell_type": "code",
      "metadata": {
        "colab": {
          "base_uri": "https://localhost:8080/"
        },
        "id": "SamI9_3pqRyf",
        "outputId": "e99bab2e-5772-4f50-924b-5ad7271cfe32"
      },
      "source": [
        "data.columns"
      ],
      "execution_count": 30,
      "outputs": [
        {
          "output_type": "execute_result",
          "data": {
            "text/plain": [
              "Index(['Gender', 'Fever', 'Nausea/Vomting', 'Headache ', 'Diarrhea ',\n",
              "       'Fatigue & generalized bone ache ', 'Jaundice ', 'Epigastric pain',\n",
              "       'AST 1', 'ALT 1', 'ALT4', 'ALT 24', 'ALT 36', 'ALT 48',\n",
              "       'ALT after 24 w', 'RNA Base', 'RNA 4', 'RNA 12', 'RNA EOT', 'RNA EF',\n",
              "       'Baseline histological Grading', 'Classe', 'AgeQ', 'BMIQ', 'WBCQ',\n",
              "       'RBCQ', 'HGBQ', 'PlatQ'],\n",
              "      dtype='object')"
            ]
          },
          "metadata": {},
          "execution_count": 30
        }
      ]
    },
    {
      "cell_type": "code",
      "metadata": {
        "id": "9yBdjSl3dPFt"
      },
      "source": [
        "XK=data[['Gender', 'Fever', 'Nausea/Vomting', 'Headache ', 'Diarrhea ',\n",
        "       'Fatigue & generalized bone ache ', 'Jaundice ', 'Epigastric pain',\n",
        "       'AST 1', 'ALT 1', 'ALT4', 'ALT 24', 'ALT 36', 'ALT 48',\n",
        "       'ALT after 24 w', 'RNA Base', 'RNA 4', 'RNA 12', 'RNA EOT', 'RNA EF',\n",
        "       'Baseline histological Grading', 'Classe', 'AgeQ', 'BMIQ', 'WBCQ',\n",
        "       'RBCQ', 'HGBQ', 'PlatQ']]\n"
      ],
      "execution_count": 31,
      "outputs": []
    },
    {
      "cell_type": "code",
      "metadata": {
        "id": "VAhcrGmNhPeF",
        "colab": {
          "base_uri": "https://localhost:8080/",
          "height": 258
        },
        "outputId": "2cb7c62d-7b25-489f-c7c7-f4163deb49a4"
      },
      "source": [
        "XK.head()"
      ],
      "execution_count": 32,
      "outputs": [
        {
          "output_type": "execute_result",
          "data": {
            "text/html": [
              "<div>\n",
              "<style scoped>\n",
              "    .dataframe tbody tr th:only-of-type {\n",
              "        vertical-align: middle;\n",
              "    }\n",
              "\n",
              "    .dataframe tbody tr th {\n",
              "        vertical-align: top;\n",
              "    }\n",
              "\n",
              "    .dataframe thead th {\n",
              "        text-align: right;\n",
              "    }\n",
              "</style>\n",
              "<table border=\"1\" class=\"dataframe\">\n",
              "  <thead>\n",
              "    <tr style=\"text-align: right;\">\n",
              "      <th></th>\n",
              "      <th>Gender</th>\n",
              "      <th>Fever</th>\n",
              "      <th>Nausea/Vomting</th>\n",
              "      <th>Headache</th>\n",
              "      <th>Diarrhea</th>\n",
              "      <th>Fatigue &amp; generalized bone ache</th>\n",
              "      <th>Jaundice</th>\n",
              "      <th>Epigastric pain</th>\n",
              "      <th>AST 1</th>\n",
              "      <th>ALT 1</th>\n",
              "      <th>ALT4</th>\n",
              "      <th>ALT 24</th>\n",
              "      <th>ALT 36</th>\n",
              "      <th>ALT 48</th>\n",
              "      <th>ALT after 24 w</th>\n",
              "      <th>RNA Base</th>\n",
              "      <th>RNA 4</th>\n",
              "      <th>RNA 12</th>\n",
              "      <th>RNA EOT</th>\n",
              "      <th>RNA EF</th>\n",
              "      <th>Baseline histological Grading</th>\n",
              "      <th>Classe</th>\n",
              "      <th>AgeQ</th>\n",
              "      <th>BMIQ</th>\n",
              "      <th>WBCQ</th>\n",
              "      <th>RBCQ</th>\n",
              "      <th>HGBQ</th>\n",
              "      <th>PlatQ</th>\n",
              "    </tr>\n",
              "  </thead>\n",
              "  <tbody>\n",
              "    <tr>\n",
              "      <th>0</th>\n",
              "      <td>1</td>\n",
              "      <td>2</td>\n",
              "      <td>1</td>\n",
              "      <td>1</td>\n",
              "      <td>1</td>\n",
              "      <td>2</td>\n",
              "      <td>2</td>\n",
              "      <td>2</td>\n",
              "      <td>3</td>\n",
              "      <td>3</td>\n",
              "      <td>3</td>\n",
              "      <td>3</td>\n",
              "      <td>1</td>\n",
              "      <td>1</td>\n",
              "      <td>1</td>\n",
              "      <td>2</td>\n",
              "      <td>2</td>\n",
              "      <td>2</td>\n",
              "      <td>1</td>\n",
              "      <td>1</td>\n",
              "      <td>13</td>\n",
              "      <td>2</td>\n",
              "      <td>6</td>\n",
              "      <td>5</td>\n",
              "      <td>2</td>\n",
              "      <td>2</td>\n",
              "      <td>2</td>\n",
              "      <td>1</td>\n",
              "    </tr>\n",
              "    <tr>\n",
              "      <th>1</th>\n",
              "      <td>1</td>\n",
              "      <td>1</td>\n",
              "      <td>2</td>\n",
              "      <td>2</td>\n",
              "      <td>1</td>\n",
              "      <td>2</td>\n",
              "      <td>2</td>\n",
              "      <td>1</td>\n",
              "      <td>3</td>\n",
              "      <td>3</td>\n",
              "      <td>3</td>\n",
              "      <td>3</td>\n",
              "      <td>3</td>\n",
              "      <td>3</td>\n",
              "      <td>3</td>\n",
              "      <td>2</td>\n",
              "      <td>2</td>\n",
              "      <td>2</td>\n",
              "      <td>2</td>\n",
              "      <td>2</td>\n",
              "      <td>4</td>\n",
              "      <td>2</td>\n",
              "      <td>4</td>\n",
              "      <td>3</td>\n",
              "      <td>3</td>\n",
              "      <td>2</td>\n",
              "      <td>1</td>\n",
              "      <td>1</td>\n",
              "    </tr>\n",
              "    <tr>\n",
              "      <th>2</th>\n",
              "      <td>1</td>\n",
              "      <td>2</td>\n",
              "      <td>2</td>\n",
              "      <td>2</td>\n",
              "      <td>2</td>\n",
              "      <td>1</td>\n",
              "      <td>1</td>\n",
              "      <td>1</td>\n",
              "      <td>3</td>\n",
              "      <td>3</td>\n",
              "      <td>3</td>\n",
              "      <td>3</td>\n",
              "      <td>1</td>\n",
              "      <td>1</td>\n",
              "      <td>1</td>\n",
              "      <td>2</td>\n",
              "      <td>2</td>\n",
              "      <td>1</td>\n",
              "      <td>2</td>\n",
              "      <td>2</td>\n",
              "      <td>4</td>\n",
              "      <td>4</td>\n",
              "      <td>6</td>\n",
              "      <td>4</td>\n",
              "      <td>1</td>\n",
              "      <td>2</td>\n",
              "      <td>1</td>\n",
              "      <td>2</td>\n",
              "    </tr>\n",
              "    <tr>\n",
              "      <th>3</th>\n",
              "      <td>2</td>\n",
              "      <td>1</td>\n",
              "      <td>2</td>\n",
              "      <td>1</td>\n",
              "      <td>2</td>\n",
              "      <td>1</td>\n",
              "      <td>2</td>\n",
              "      <td>1</td>\n",
              "      <td>3</td>\n",
              "      <td>3</td>\n",
              "      <td>3</td>\n",
              "      <td>3</td>\n",
              "      <td>3</td>\n",
              "      <td>3</td>\n",
              "      <td>2</td>\n",
              "      <td>2</td>\n",
              "      <td>2</td>\n",
              "      <td>2</td>\n",
              "      <td>2</td>\n",
              "      <td>2</td>\n",
              "      <td>10</td>\n",
              "      <td>3</td>\n",
              "      <td>4</td>\n",
              "      <td>4</td>\n",
              "      <td>2</td>\n",
              "      <td>3</td>\n",
              "      <td>1</td>\n",
              "      <td>2</td>\n",
              "    </tr>\n",
              "    <tr>\n",
              "      <th>4</th>\n",
              "      <td>1</td>\n",
              "      <td>1</td>\n",
              "      <td>1</td>\n",
              "      <td>2</td>\n",
              "      <td>1</td>\n",
              "      <td>2</td>\n",
              "      <td>2</td>\n",
              "      <td>2</td>\n",
              "      <td>3</td>\n",
              "      <td>3</td>\n",
              "      <td>3</td>\n",
              "      <td>3</td>\n",
              "      <td>3</td>\n",
              "      <td>3</td>\n",
              "      <td>2</td>\n",
              "      <td>2</td>\n",
              "      <td>2</td>\n",
              "      <td>2</td>\n",
              "      <td>2</td>\n",
              "      <td>2</td>\n",
              "      <td>11</td>\n",
              "      <td>1</td>\n",
              "      <td>7</td>\n",
              "      <td>4</td>\n",
              "      <td>1</td>\n",
              "      <td>2</td>\n",
              "      <td>1</td>\n",
              "      <td>3</td>\n",
              "    </tr>\n",
              "  </tbody>\n",
              "</table>\n",
              "</div>"
            ],
            "text/plain": [
              "  Gender Fever Nausea/Vomting Headache  Diarrhea   ... BMIQ WBCQ RBCQ  HGBQ  PlatQ\n",
              "0      1     2              1         1         1  ...    5    2    2     2      1\n",
              "1      1     1              2         2         1  ...    3    3    2     1      1\n",
              "2      1     2              2         2         2  ...    4    1    2     1      2\n",
              "3      2     1              2         1         2  ...    4    2    3     1      2\n",
              "4      1     1              1         2         1  ...    4    1    2     1      3\n",
              "\n",
              "[5 rows x 28 columns]"
            ]
          },
          "metadata": {},
          "execution_count": 32
        }
      ]
    },
    {
      "cell_type": "code",
      "metadata": {
        "id": "jqj7YnX8mTAH"
      },
      "source": [
        "XK_copy = XK.copy() #Création d'une copie qui nous servira par la suite "
      ],
      "execution_count": 33,
      "outputs": []
    },
    {
      "cell_type": "code",
      "metadata": {
        "id": "YU9e1twwmduz",
        "colab": {
          "base_uri": "https://localhost:8080/",
          "height": 258
        },
        "outputId": "452c0295-0a49-45eb-8a67-d0104af1f2ce"
      },
      "source": [
        "from sklearn import preprocessing\n",
        "le = preprocessing.LabelEncoder()\n",
        "XK = XK.apply(le.fit_transform)\n",
        "XK.head()"
      ],
      "execution_count": 34,
      "outputs": [
        {
          "output_type": "execute_result",
          "data": {
            "text/html": [
              "<div>\n",
              "<style scoped>\n",
              "    .dataframe tbody tr th:only-of-type {\n",
              "        vertical-align: middle;\n",
              "    }\n",
              "\n",
              "    .dataframe tbody tr th {\n",
              "        vertical-align: top;\n",
              "    }\n",
              "\n",
              "    .dataframe thead th {\n",
              "        text-align: right;\n",
              "    }\n",
              "</style>\n",
              "<table border=\"1\" class=\"dataframe\">\n",
              "  <thead>\n",
              "    <tr style=\"text-align: right;\">\n",
              "      <th></th>\n",
              "      <th>Gender</th>\n",
              "      <th>Fever</th>\n",
              "      <th>Nausea/Vomting</th>\n",
              "      <th>Headache</th>\n",
              "      <th>Diarrhea</th>\n",
              "      <th>Fatigue &amp; generalized bone ache</th>\n",
              "      <th>Jaundice</th>\n",
              "      <th>Epigastric pain</th>\n",
              "      <th>AST 1</th>\n",
              "      <th>ALT 1</th>\n",
              "      <th>ALT4</th>\n",
              "      <th>ALT 24</th>\n",
              "      <th>ALT 36</th>\n",
              "      <th>ALT 48</th>\n",
              "      <th>ALT after 24 w</th>\n",
              "      <th>RNA Base</th>\n",
              "      <th>RNA 4</th>\n",
              "      <th>RNA 12</th>\n",
              "      <th>RNA EOT</th>\n",
              "      <th>RNA EF</th>\n",
              "      <th>Baseline histological Grading</th>\n",
              "      <th>Classe</th>\n",
              "      <th>AgeQ</th>\n",
              "      <th>BMIQ</th>\n",
              "      <th>WBCQ</th>\n",
              "      <th>RBCQ</th>\n",
              "      <th>HGBQ</th>\n",
              "      <th>PlatQ</th>\n",
              "    </tr>\n",
              "  </thead>\n",
              "  <tbody>\n",
              "    <tr>\n",
              "      <th>0</th>\n",
              "      <td>0</td>\n",
              "      <td>1</td>\n",
              "      <td>0</td>\n",
              "      <td>0</td>\n",
              "      <td>0</td>\n",
              "      <td>1</td>\n",
              "      <td>1</td>\n",
              "      <td>1</td>\n",
              "      <td>1</td>\n",
              "      <td>1</td>\n",
              "      <td>1</td>\n",
              "      <td>1</td>\n",
              "      <td>0</td>\n",
              "      <td>0</td>\n",
              "      <td>0</td>\n",
              "      <td>0</td>\n",
              "      <td>1</td>\n",
              "      <td>1</td>\n",
              "      <td>0</td>\n",
              "      <td>0</td>\n",
              "      <td>10</td>\n",
              "      <td>1</td>\n",
              "      <td>5</td>\n",
              "      <td>4</td>\n",
              "      <td>1</td>\n",
              "      <td>1</td>\n",
              "      <td>1</td>\n",
              "      <td>0</td>\n",
              "    </tr>\n",
              "    <tr>\n",
              "      <th>1</th>\n",
              "      <td>0</td>\n",
              "      <td>0</td>\n",
              "      <td>1</td>\n",
              "      <td>1</td>\n",
              "      <td>0</td>\n",
              "      <td>1</td>\n",
              "      <td>1</td>\n",
              "      <td>0</td>\n",
              "      <td>1</td>\n",
              "      <td>1</td>\n",
              "      <td>1</td>\n",
              "      <td>1</td>\n",
              "      <td>2</td>\n",
              "      <td>2</td>\n",
              "      <td>2</td>\n",
              "      <td>0</td>\n",
              "      <td>1</td>\n",
              "      <td>1</td>\n",
              "      <td>1</td>\n",
              "      <td>1</td>\n",
              "      <td>1</td>\n",
              "      <td>1</td>\n",
              "      <td>3</td>\n",
              "      <td>2</td>\n",
              "      <td>2</td>\n",
              "      <td>1</td>\n",
              "      <td>0</td>\n",
              "      <td>0</td>\n",
              "    </tr>\n",
              "    <tr>\n",
              "      <th>2</th>\n",
              "      <td>0</td>\n",
              "      <td>1</td>\n",
              "      <td>1</td>\n",
              "      <td>1</td>\n",
              "      <td>1</td>\n",
              "      <td>0</td>\n",
              "      <td>0</td>\n",
              "      <td>0</td>\n",
              "      <td>1</td>\n",
              "      <td>1</td>\n",
              "      <td>1</td>\n",
              "      <td>1</td>\n",
              "      <td>0</td>\n",
              "      <td>0</td>\n",
              "      <td>0</td>\n",
              "      <td>0</td>\n",
              "      <td>1</td>\n",
              "      <td>0</td>\n",
              "      <td>1</td>\n",
              "      <td>1</td>\n",
              "      <td>1</td>\n",
              "      <td>3</td>\n",
              "      <td>5</td>\n",
              "      <td>3</td>\n",
              "      <td>0</td>\n",
              "      <td>1</td>\n",
              "      <td>0</td>\n",
              "      <td>1</td>\n",
              "    </tr>\n",
              "    <tr>\n",
              "      <th>3</th>\n",
              "      <td>1</td>\n",
              "      <td>0</td>\n",
              "      <td>1</td>\n",
              "      <td>0</td>\n",
              "      <td>1</td>\n",
              "      <td>0</td>\n",
              "      <td>1</td>\n",
              "      <td>0</td>\n",
              "      <td>1</td>\n",
              "      <td>1</td>\n",
              "      <td>1</td>\n",
              "      <td>1</td>\n",
              "      <td>2</td>\n",
              "      <td>2</td>\n",
              "      <td>1</td>\n",
              "      <td>0</td>\n",
              "      <td>1</td>\n",
              "      <td>1</td>\n",
              "      <td>1</td>\n",
              "      <td>1</td>\n",
              "      <td>7</td>\n",
              "      <td>2</td>\n",
              "      <td>3</td>\n",
              "      <td>3</td>\n",
              "      <td>1</td>\n",
              "      <td>2</td>\n",
              "      <td>0</td>\n",
              "      <td>1</td>\n",
              "    </tr>\n",
              "    <tr>\n",
              "      <th>4</th>\n",
              "      <td>0</td>\n",
              "      <td>0</td>\n",
              "      <td>0</td>\n",
              "      <td>1</td>\n",
              "      <td>0</td>\n",
              "      <td>1</td>\n",
              "      <td>1</td>\n",
              "      <td>1</td>\n",
              "      <td>1</td>\n",
              "      <td>1</td>\n",
              "      <td>1</td>\n",
              "      <td>1</td>\n",
              "      <td>2</td>\n",
              "      <td>2</td>\n",
              "      <td>1</td>\n",
              "      <td>0</td>\n",
              "      <td>1</td>\n",
              "      <td>1</td>\n",
              "      <td>1</td>\n",
              "      <td>1</td>\n",
              "      <td>8</td>\n",
              "      <td>0</td>\n",
              "      <td>6</td>\n",
              "      <td>3</td>\n",
              "      <td>0</td>\n",
              "      <td>1</td>\n",
              "      <td>0</td>\n",
              "      <td>2</td>\n",
              "    </tr>\n",
              "  </tbody>\n",
              "</table>\n",
              "</div>"
            ],
            "text/plain": [
              "   Gender  Fever  Nausea/Vomting  Headache   ...  WBCQ  RBCQ  HGBQ  PlatQ\n",
              "0       0      1               0          0  ...     1     1     1      0\n",
              "1       0      0               1          1  ...     2     1     0      0\n",
              "2       0      1               1          1  ...     0     1     0      1\n",
              "3       1      0               1          0  ...     1     2     0      1\n",
              "4       0      0               0          1  ...     0     1     0      2\n",
              "\n",
              "[5 rows x 28 columns]"
            ]
          },
          "metadata": {},
          "execution_count": 34
        }
      ]
    },
    {
      "cell_type": "code",
      "metadata": {
        "colab": {
          "base_uri": "https://localhost:8080/"
        },
        "id": "y9onkDjsqi5O",
        "outputId": "a894d67f-2950-4581-bc5e-b150f1a6797e"
      },
      "source": [
        "#from kmodes.kmodes import KModes \n",
        "#suite à la génération d'erreur, j'ai installé ce module\n",
        "!pip install kmodes\n",
        "import kmodes\n"
      ],
      "execution_count": 35,
      "outputs": [
        {
          "output_type": "stream",
          "name": "stdout",
          "text": [
            "Collecting kmodes\n",
            "  Downloading kmodes-0.11.1-py2.py3-none-any.whl (19 kB)\n",
            "Requirement already satisfied: scikit-learn>=0.22.0 in /usr/local/lib/python3.7/dist-packages (from kmodes) (0.22.2.post1)\n",
            "Requirement already satisfied: numpy>=1.10.4 in /usr/local/lib/python3.7/dist-packages (from kmodes) (1.19.5)\n",
            "Requirement already satisfied: scipy>=0.13.3 in /usr/local/lib/python3.7/dist-packages (from kmodes) (1.4.1)\n",
            "Requirement already satisfied: joblib>=0.11 in /usr/local/lib/python3.7/dist-packages (from kmodes) (1.0.1)\n",
            "Installing collected packages: kmodes\n",
            "Successfully installed kmodes-0.11.1\n"
          ]
        }
      ]
    },
    {
      "cell_type": "code",
      "metadata": {
        "colab": {
          "base_uri": "https://localhost:8080/"
        },
        "id": "Tw0kkOdvshSJ",
        "outputId": "2f3ff1cc-1ab8-4a01-8393-ec99516523a2"
      },
      "source": [
        "#Application de l'algorithme Kmode en spécifiant le nombre de clusters à 4 \n",
        "from kmodes.kmodes import KModes\n",
        "km_cao = KModes(n_clusters=4, init = \"Cao\", n_init = 1, verbose=1)\n",
        "fitClusters_cao = km_cao.fit_predict(XK)"
      ],
      "execution_count": 36,
      "outputs": [
        {
          "output_type": "stream",
          "name": "stdout",
          "text": [
            "Init: initializing centroids\n",
            "Init: initializing clusters\n",
            "Starting iterations...\n",
            "Run 1, iteration: 1/100, moves: 202, cost: 12097.0\n"
          ]
        }
      ]
    },
    {
      "cell_type": "markdown",
      "metadata": {
        "id": "HPqSk91o1r6r"
      },
      "source": [
        "--> affichage de nombre de changement de centre d'inertie\n",
        "nombre d'itéaration"
      ]
    },
    {
      "cell_type": "code",
      "metadata": {
        "colab": {
          "base_uri": "https://localhost:8080/"
        },
        "id": "6VhEjojfs-2B",
        "outputId": "b96b1350-2209-4175-92eb-23820863e041"
      },
      "source": [
        "# Predicted Clusters\n",
        "predicted_cluster=fitClusters_cao\n",
        "predicted_cluster.shape"
      ],
      "execution_count": 37,
      "outputs": [
        {
          "output_type": "execute_result",
          "data": {
            "text/plain": [
              "(1385,)"
            ]
          },
          "metadata": {},
          "execution_count": 37
        }
      ]
    },
    {
      "cell_type": "code",
      "metadata": {
        "id": "sgoIQssmtFZv"
      },
      "source": [
        "clusterCentroidsDf = pd.DataFrame(km_cao.cluster_centroids_)\n",
        "clusterCentroidsDf.columns = XK.columns"
      ],
      "execution_count": 38,
      "outputs": []
    },
    {
      "cell_type": "code",
      "metadata": {
        "colab": {
          "base_uri": "https://localhost:8080/",
          "height": 227
        },
        "id": "C7lE59QQtSwY",
        "outputId": "e55764a1-cb19-44b0-cd68-971c7c0e15dc"
      },
      "source": [
        "# Mode of the clusters\n",
        "clusterCentroidsDf"
      ],
      "execution_count": 39,
      "outputs": [
        {
          "output_type": "execute_result",
          "data": {
            "text/html": [
              "<div>\n",
              "<style scoped>\n",
              "    .dataframe tbody tr th:only-of-type {\n",
              "        vertical-align: middle;\n",
              "    }\n",
              "\n",
              "    .dataframe tbody tr th {\n",
              "        vertical-align: top;\n",
              "    }\n",
              "\n",
              "    .dataframe thead th {\n",
              "        text-align: right;\n",
              "    }\n",
              "</style>\n",
              "<table border=\"1\" class=\"dataframe\">\n",
              "  <thead>\n",
              "    <tr style=\"text-align: right;\">\n",
              "      <th></th>\n",
              "      <th>Gender</th>\n",
              "      <th>Fever</th>\n",
              "      <th>Nausea/Vomting</th>\n",
              "      <th>Headache</th>\n",
              "      <th>Diarrhea</th>\n",
              "      <th>Fatigue &amp; generalized bone ache</th>\n",
              "      <th>Jaundice</th>\n",
              "      <th>Epigastric pain</th>\n",
              "      <th>AST 1</th>\n",
              "      <th>ALT 1</th>\n",
              "      <th>ALT4</th>\n",
              "      <th>ALT 24</th>\n",
              "      <th>ALT 36</th>\n",
              "      <th>ALT 48</th>\n",
              "      <th>ALT after 24 w</th>\n",
              "      <th>RNA Base</th>\n",
              "      <th>RNA 4</th>\n",
              "      <th>RNA 12</th>\n",
              "      <th>RNA EOT</th>\n",
              "      <th>RNA EF</th>\n",
              "      <th>Baseline histological Grading</th>\n",
              "      <th>Classe</th>\n",
              "      <th>AgeQ</th>\n",
              "      <th>BMIQ</th>\n",
              "      <th>WBCQ</th>\n",
              "      <th>RBCQ</th>\n",
              "      <th>HGBQ</th>\n",
              "      <th>PlatQ</th>\n",
              "    </tr>\n",
              "  </thead>\n",
              "  <tbody>\n",
              "    <tr>\n",
              "      <th>0</th>\n",
              "      <td>0</td>\n",
              "      <td>1</td>\n",
              "      <td>1</td>\n",
              "      <td>0</td>\n",
              "      <td>1</td>\n",
              "      <td>0</td>\n",
              "      <td>1</td>\n",
              "      <td>1</td>\n",
              "      <td>1</td>\n",
              "      <td>1</td>\n",
              "      <td>1</td>\n",
              "      <td>1</td>\n",
              "      <td>2</td>\n",
              "      <td>2</td>\n",
              "      <td>1</td>\n",
              "      <td>0</td>\n",
              "      <td>1</td>\n",
              "      <td>1</td>\n",
              "      <td>1</td>\n",
              "      <td>1</td>\n",
              "      <td>12</td>\n",
              "      <td>3</td>\n",
              "      <td>0</td>\n",
              "      <td>2</td>\n",
              "      <td>0</td>\n",
              "      <td>0</td>\n",
              "      <td>0</td>\n",
              "      <td>1</td>\n",
              "    </tr>\n",
              "    <tr>\n",
              "      <th>1</th>\n",
              "      <td>1</td>\n",
              "      <td>0</td>\n",
              "      <td>1</td>\n",
              "      <td>1</td>\n",
              "      <td>0</td>\n",
              "      <td>1</td>\n",
              "      <td>0</td>\n",
              "      <td>0</td>\n",
              "      <td>1</td>\n",
              "      <td>1</td>\n",
              "      <td>1</td>\n",
              "      <td>1</td>\n",
              "      <td>2</td>\n",
              "      <td>2</td>\n",
              "      <td>1</td>\n",
              "      <td>0</td>\n",
              "      <td>1</td>\n",
              "      <td>0</td>\n",
              "      <td>0</td>\n",
              "      <td>0</td>\n",
              "      <td>12</td>\n",
              "      <td>1</td>\n",
              "      <td>6</td>\n",
              "      <td>0</td>\n",
              "      <td>1</td>\n",
              "      <td>2</td>\n",
              "      <td>0</td>\n",
              "      <td>2</td>\n",
              "    </tr>\n",
              "    <tr>\n",
              "      <th>2</th>\n",
              "      <td>1</td>\n",
              "      <td>0</td>\n",
              "      <td>0</td>\n",
              "      <td>0</td>\n",
              "      <td>0</td>\n",
              "      <td>1</td>\n",
              "      <td>1</td>\n",
              "      <td>0</td>\n",
              "      <td>1</td>\n",
              "      <td>1</td>\n",
              "      <td>1</td>\n",
              "      <td>1</td>\n",
              "      <td>2</td>\n",
              "      <td>2</td>\n",
              "      <td>1</td>\n",
              "      <td>0</td>\n",
              "      <td>1</td>\n",
              "      <td>1</td>\n",
              "      <td>1</td>\n",
              "      <td>1</td>\n",
              "      <td>9</td>\n",
              "      <td>2</td>\n",
              "      <td>2</td>\n",
              "      <td>3</td>\n",
              "      <td>2</td>\n",
              "      <td>1</td>\n",
              "      <td>0</td>\n",
              "      <td>0</td>\n",
              "    </tr>\n",
              "    <tr>\n",
              "      <th>3</th>\n",
              "      <td>1</td>\n",
              "      <td>1</td>\n",
              "      <td>0</td>\n",
              "      <td>1</td>\n",
              "      <td>0</td>\n",
              "      <td>0</td>\n",
              "      <td>0</td>\n",
              "      <td>1</td>\n",
              "      <td>1</td>\n",
              "      <td>1</td>\n",
              "      <td>1</td>\n",
              "      <td>1</td>\n",
              "      <td>2</td>\n",
              "      <td>2</td>\n",
              "      <td>1</td>\n",
              "      <td>0</td>\n",
              "      <td>1</td>\n",
              "      <td>1</td>\n",
              "      <td>1</td>\n",
              "      <td>1</td>\n",
              "      <td>11</td>\n",
              "      <td>0</td>\n",
              "      <td>3</td>\n",
              "      <td>4</td>\n",
              "      <td>1</td>\n",
              "      <td>2</td>\n",
              "      <td>2</td>\n",
              "      <td>0</td>\n",
              "    </tr>\n",
              "  </tbody>\n",
              "</table>\n",
              "</div>"
            ],
            "text/plain": [
              "   Gender  Fever  Nausea/Vomting  Headache   ...  WBCQ  RBCQ  HGBQ  PlatQ\n",
              "0       0      1               1          0  ...     0     0     0      1\n",
              "1       1      0               1          1  ...     1     2     0      2\n",
              "2       1      0               0          0  ...     2     1     0      0\n",
              "3       1      1               0          1  ...     1     2     2      0\n",
              "\n",
              "[4 rows x 28 columns]"
            ]
          },
          "metadata": {},
          "execution_count": 39
        }
      ]
    },
    {
      "cell_type": "markdown",
      "metadata": {
        "id": "dGfyToKptyBr"
      },
      "source": [
        "# **Choosing K by comparing Cost against each K**"
      ]
    },
    {
      "cell_type": "markdown",
      "metadata": {
        "id": "hQ9dyOPB2DmF"
      },
      "source": [
        "Choix du nombre de cluster qui répartit le mieux le jeu de données (on supposant qu'on ne connait pas que c'est 4)\n",
        "Le paramètre de choix est le \"cost\" qui réellement tend à minmiser les itérations avant d'avoir une répartition stable\n",
        "![Selection_047.png](data:image/png;base64,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)"
      ]
    },
    {
      "cell_type": "code",
      "metadata": {
        "colab": {
          "base_uri": "https://localhost:8080/"
        },
        "id": "VjB371HntxOd",
        "outputId": "1e534a48-661a-495b-ae76-4deae006fed7"
      },
      "source": [
        "cost = []\n",
        "for num_clusters in list(range(1,8)):\n",
        "    kmode = KModes(n_clusters=num_clusters, init = \"Cao\", n_init = 1, verbose=1)\n",
        "    kmode.fit_predict(XK)\n",
        "    cost.append(kmode.cost_)"
      ],
      "execution_count": 40,
      "outputs": [
        {
          "output_type": "stream",
          "name": "stdout",
          "text": [
            "Init: initializing centroids\n",
            "Init: initializing clusters\n",
            "Starting iterations...\n",
            "Run 1, iteration: 1/100, moves: 0, cost: 15096.0\n",
            "Init: initializing centroids\n",
            "Init: initializing clusters\n",
            "Starting iterations...\n",
            "Run 1, iteration: 1/100, moves: 95, cost: 13517.0\n",
            "Init: initializing centroids\n",
            "Init: initializing clusters\n",
            "Starting iterations...\n",
            "Run 1, iteration: 1/100, moves: 161, cost: 12634.0\n",
            "Run 1, iteration: 2/100, moves: 0, cost: 12634.0\n",
            "Init: initializing centroids\n",
            "Init: initializing clusters\n",
            "Starting iterations...\n",
            "Run 1, iteration: 1/100, moves: 202, cost: 12097.0\n",
            "Init: initializing centroids\n",
            "Init: initializing clusters\n",
            "Starting iterations...\n",
            "Run 1, iteration: 1/100, moves: 214, cost: 11786.0\n",
            "Run 1, iteration: 2/100, moves: 12, cost: 11786.0\n",
            "Init: initializing centroids\n",
            "Init: initializing clusters\n",
            "Starting iterations...\n",
            "Run 1, iteration: 1/100, moves: 187, cost: 11594.0\n",
            "Run 1, iteration: 2/100, moves: 23, cost: 11594.0\n",
            "Init: initializing centroids\n",
            "Init: initializing clusters\n",
            "Starting iterations...\n",
            "Run 1, iteration: 1/100, moves: 199, cost: 11257.0\n",
            "Run 1, iteration: 2/100, moves: 28, cost: 11257.0\n"
          ]
        }
      ]
    },
    {
      "cell_type": "code",
      "metadata": {
        "colab": {
          "base_uri": "https://localhost:8080/",
          "height": 282
        },
        "id": "wcr6YIJ_uRWs",
        "outputId": "eea3c175-b563-42b1-8b35-48570bdef343"
      },
      "source": [
        "y = np.array([i for i in range(1,8,1)])\n",
        "plt.plot(y,cost)"
      ],
      "execution_count": 41,
      "outputs": [
        {
          "output_type": "execute_result",
          "data": {
            "text/plain": [
              "[<matplotlib.lines.Line2D at 0x7f19a8e9a750>]"
            ]
          },
          "metadata": {},
          "execution_count": 41
        },
        {
          "output_type": "display_data",
          "data": {
            "image/png": "[encoded data removed]",
            "text/plain": [
              "<Figure size 432x288 with 1 Axes>"
            ]
          },
          "metadata": {
            "needs_background": "light"
          }
        }
      ]
    },
    {
      "cell_type": "markdown",
      "metadata": {
        "id": "4asEKDRGu5EA"
      },
      "source": [
        "# **Combining the predicted clusters with the original DF**"
      ]
    },
    {
      "cell_type": "code",
      "metadata": {
        "id": "U7Cgkbj5txJ6"
      },
      "source": [
        "XK = XK_copy.reset_index()"
      ],
      "execution_count": 42,
      "outputs": []
    },
    {
      "cell_type": "code",
      "metadata": {
        "id": "UFb9cA5EtxDl"
      },
      "source": [
        "predicted_cluster = pd.DataFrame(fitClusters_cao)\n",
        "predicted_cluster.columns = ['PCL']\n",
        "combinedDf = pd.concat([XK, predicted_cluster], axis = 1).reset_index()\n",
        "combinedDf = combinedDf.drop(['index', 'level_0'], axis = 1)"
      ],
      "execution_count": 43,
      "outputs": []
    },
    {
      "cell_type": "markdown",
      "metadata": {
        "id": "stmIoya34A6u"
      },
      "source": [
        "Définier \"PCL\" en tant que le nouveau Label prédit, nom du cluster, et les afficher en tant que colonne (pd. Data Frame..)"
      ]
    },
    {
      "cell_type": "code",
      "metadata": {
        "id": "eKyFDEM61q2v"
      },
      "source": [
        "cluster_0 = combinedDf[combinedDf['PCL'] == 1]\n",
        "cluster_1 = combinedDf[combinedDf['PCL'] == 2]\n",
        "cluster_2 = combinedDf[combinedDf['PCL'] == 3]\n",
        "cluster_3 = combinedDf[combinedDf['PCL'] == 4]"
      ],
      "execution_count": 44,
      "outputs": []
    },
    {
      "cell_type": "markdown",
      "metadata": {
        "id": "SY7ndQrX4Swx"
      },
      "source": [
        "assigner chaque chiffre à un label, une classe."
      ]
    },
    {
      "cell_type": "code",
      "metadata": {
        "colab": {
          "base_uri": "https://localhost:8080/"
        },
        "id": "tnY9u6i83CwP",
        "outputId": "7521ba16-9543-4f3e-e3c0-7dbf8b2e6aca"
      },
      "source": [
        "cluster_0.info()"
      ],
      "execution_count": 45,
      "outputs": [
        {
          "output_type": "stream",
          "name": "stdout",
          "text": [
            "<class 'pandas.core.frame.DataFrame'>\n",
            "Int64Index: 317 entries, 5 to 1384\n",
            "Data columns (total 29 columns):\n",
            " #   Column                            Non-Null Count  Dtype   \n",
            "---  ------                            --------------  -----   \n",
            " 0   Gender                            317 non-null    category\n",
            " 1   Fever                             317 non-null    category\n",
            " 2   Nausea/Vomting                    317 non-null    category\n",
            " 3   Headache                          317 non-null    category\n",
            " 4   Diarrhea                          317 non-null    category\n",
            " 5   Fatigue & generalized bone ache   317 non-null    category\n",
            " 6   Jaundice                          317 non-null    category\n",
            " 7   Epigastric pain                   317 non-null    category\n",
            " 8   AST 1                             317 non-null    int64   \n",
            " 9   ALT 1                             317 non-null    int64   \n",
            " 10  ALT4                              317 non-null    int64   \n",
            " 11  ALT 24                            317 non-null    int64   \n",
            " 12  ALT 36                            317 non-null    int64   \n",
            " 13  ALT 48                            317 non-null    int64   \n",
            " 14  ALT after 24 w                    317 non-null    int64   \n",
            " 15  RNA Base                          317 non-null    int64   \n",
            " 16  RNA 4                             317 non-null    int64   \n",
            " 17  RNA 12                            317 non-null    int64   \n",
            " 18  RNA EOT                           317 non-null    int64   \n",
            " 19  RNA EF                            317 non-null    int64   \n",
            " 20  Baseline histological Grading     317 non-null    int64   \n",
            " 21  Classe                            317 non-null    category\n",
            " 22  AgeQ                              317 non-null    category\n",
            " 23  BMIQ                              317 non-null    category\n",
            " 24  WBCQ                              317 non-null    category\n",
            " 25  RBCQ                              317 non-null    category\n",
            " 26  HGBQ                              317 non-null    category\n",
            " 27  PlatQ                             317 non-null    category\n",
            " 28  PCL                               317 non-null    uint16  \n",
            "dtypes: category(15), int64(13), uint16(1)\n",
            "memory usage: 41.8 KB\n"
          ]
        }
      ]
    },
    {
      "cell_type": "code",
      "metadata": {
        "colab": {
          "base_uri": "https://localhost:8080/"
        },
        "id": "7w8vpYcQ3Cse",
        "outputId": "fa4619c6-f57f-4e49-fe76-7b6364580aaa"
      },
      "source": [
        "cluster_1.info()"
      ],
      "execution_count": 46,
      "outputs": [
        {
          "output_type": "stream",
          "name": "stdout",
          "text": [
            "<class 'pandas.core.frame.DataFrame'>\n",
            "Int64Index: 315 entries, 0 to 1375\n",
            "Data columns (total 29 columns):\n",
            " #   Column                            Non-Null Count  Dtype   \n",
            "---  ------                            --------------  -----   \n",
            " 0   Gender                            315 non-null    category\n",
            " 1   Fever                             315 non-null    category\n",
            " 2   Nausea/Vomting                    315 non-null    category\n",
            " 3   Headache                          315 non-null    category\n",
            " 4   Diarrhea                          315 non-null    category\n",
            " 5   Fatigue & generalized bone ache   315 non-null    category\n",
            " 6   Jaundice                          315 non-null    category\n",
            " 7   Epigastric pain                   315 non-null    category\n",
            " 8   AST 1                             315 non-null    int64   \n",
            " 9   ALT 1                             315 non-null    int64   \n",
            " 10  ALT4                              315 non-null    int64   \n",
            " 11  ALT 24                            315 non-null    int64   \n",
            " 12  ALT 36                            315 non-null    int64   \n",
            " 13  ALT 48                            315 non-null    int64   \n",
            " 14  ALT after 24 w                    315 non-null    int64   \n",
            " 15  RNA Base                          315 non-null    int64   \n",
            " 16  RNA 4                             315 non-null    int64   \n",
            " 17  RNA 12                            315 non-null    int64   \n",
            " 18  RNA EOT                           315 non-null    int64   \n",
            " 19  RNA EF                            315 non-null    int64   \n",
            " 20  Baseline histological Grading     315 non-null    int64   \n",
            " 21  Classe                            315 non-null    category\n",
            " 22  AgeQ                              315 non-null    category\n",
            " 23  BMIQ                              315 non-null    category\n",
            " 24  WBCQ                              315 non-null    category\n",
            " 25  RBCQ                              315 non-null    category\n",
            " 26  HGBQ                              315 non-null    category\n",
            " 27  PlatQ                             315 non-null    category\n",
            " 28  PCL                               315 non-null    uint16  \n",
            "dtypes: category(15), int64(13), uint16(1)\n",
            "memory usage: 41.6 KB\n"
          ]
        }
      ]
    },
    {
      "cell_type": "code",
      "metadata": {
        "colab": {
          "base_uri": "https://localhost:8080/",
          "height": 282
        },
        "id": "-mruvsg33CmV",
        "outputId": "68f884b2-035f-4284-a5e8-794f29845309"
      },
      "source": [
        "combinedDf.PCL.hist()"
      ],
      "execution_count": 47,
      "outputs": [
        {
          "output_type": "execute_result",
          "data": {
            "text/plain": [
              "<matplotlib.axes._subplots.AxesSubplot at 0x7f19a8fd1310>"
            ]
          },
          "metadata": {},
          "execution_count": 47
        },
        {
          "output_type": "display_data",
          "data": {
            "image/png": "[encoded data removed]",
            "text/plain": [
              "<Figure size 432x288 with 1 Axes>"
            ]
          },
          "metadata": {
            "needs_background": "light"
          }
        }
      ]
    },
    {
      "cell_type": "markdown",
      "metadata": {
        "id": "JYUs79W_0rt6"
      },
      "source": [
        ""
      ]
    },
    {
      "cell_type": "markdown",
      "metadata": {
        "id": "CneZYfMJ032B"
      },
      "source": [
        "Quelques exemple pour visualiser la distribution  de chaque attribut selon les classes\n",
        "\n",
        "\n"
      ]
    },
    {
      "cell_type": "code",
      "metadata": {
        "colab": {
          "base_uri": "https://localhost:8080/",
          "height": 334
        },
        "id": "_-A9NUhk5iPP",
        "outputId": "6ec38c33-4f99-4ddf-b040-f8d106f7fa5e"
      },
      "source": [
        "plt.subplots(figsize = (10,5))\n",
        "sns.countplot(x=combinedDf['ALT 48'],order=combinedDf['ALT 48'].value_counts().index,hue=combinedDf['PCL'])\n",
        "plt.show()"
      ],
      "execution_count": 48,
      "outputs": [
        {
          "output_type": "display_data",
          "data": {
            "image/png": "[encoded data removed]",
            "text/plain": [
              "<Figure size 720x360 with 1 Axes>"
            ]
          },
          "metadata": {
            "needs_background": "light"
          }
        }
      ]
    },
    {
      "cell_type": "code",
      "metadata": {
        "colab": {
          "base_uri": "https://localhost:8080/",
          "height": 334
        },
        "id": "hDp6_QwP7GS3",
        "outputId": "7e4f1e27-6bf6-4be8-fec2-574be447e6cb"
      },
      "source": [
        "plt.subplots(figsize = (10,5))\n",
        "sns.countplot(x=XK['ALT 48'],order=XK['ALT 48'].value_counts().index,hue=XK['Classe'])\n",
        "plt.show()"
      ],
      "execution_count": 49,
      "outputs": [
        {
          "output_type": "display_data",
          "data": {
            "image/png": "[encoded data removed]",
            "text/plain": [
              "<Figure size 720x360 with 1 Axes>"
            ]
          },
          "metadata": {
            "needs_background": "light"
          }
        }
      ]
    },
    {
      "cell_type": "code",
      "metadata": {
        "colab": {
          "base_uri": "https://localhost:8080/",
          "height": 258
        },
        "id": "4s2vmxk6txAV",
        "outputId": "82148011-6b90-4848-c9d1-63cf62739aa6"
      },
      "source": [
        "combinedDf.head()"
      ],
      "execution_count": 50,
      "outputs": [
        {
          "output_type": "execute_result",
          "data": {
            "text/html": [
              "<div>\n",
              "<style scoped>\n",
              "    .dataframe tbody tr th:only-of-type {\n",
              "        vertical-align: middle;\n",
              "    }\n",
              "\n",
              "    .dataframe tbody tr th {\n",
              "        vertical-align: top;\n",
              "    }\n",
              "\n",
              "    .dataframe thead th {\n",
              "        text-align: right;\n",
              "    }\n",
              "</style>\n",
              "<table border=\"1\" class=\"dataframe\">\n",
              "  <thead>\n",
              "    <tr style=\"text-align: right;\">\n",
              "      <th></th>\n",
              "      <th>Gender</th>\n",
              "      <th>Fever</th>\n",
              "      <th>Nausea/Vomting</th>\n",
              "      <th>Headache</th>\n",
              "      <th>Diarrhea</th>\n",
              "      <th>Fatigue &amp; generalized bone ache</th>\n",
              "      <th>Jaundice</th>\n",
              "      <th>Epigastric pain</th>\n",
              "      <th>AST 1</th>\n",
              "      <th>ALT 1</th>\n",
              "      <th>ALT4</th>\n",
              "      <th>ALT 24</th>\n",
              "      <th>ALT 36</th>\n",
              "      <th>ALT 48</th>\n",
              "      <th>ALT after 24 w</th>\n",
              "      <th>RNA Base</th>\n",
              "      <th>RNA 4</th>\n",
              "      <th>RNA 12</th>\n",
              "      <th>RNA EOT</th>\n",
              "      <th>RNA EF</th>\n",
              "      <th>Baseline histological Grading</th>\n",
              "      <th>Classe</th>\n",
              "      <th>AgeQ</th>\n",
              "      <th>BMIQ</th>\n",
              "      <th>WBCQ</th>\n",
              "      <th>RBCQ</th>\n",
              "      <th>HGBQ</th>\n",
              "      <th>PlatQ</th>\n",
              "      <th>PCL</th>\n",
              "    </tr>\n",
              "  </thead>\n",
              "  <tbody>\n",
              "    <tr>\n",
              "      <th>0</th>\n",
              "      <td>1</td>\n",
              "      <td>2</td>\n",
              "      <td>1</td>\n",
              "      <td>1</td>\n",
              "      <td>1</td>\n",
              "      <td>2</td>\n",
              "      <td>2</td>\n",
              "      <td>2</td>\n",
              "      <td>3</td>\n",
              "      <td>3</td>\n",
              "      <td>3</td>\n",
              "      <td>3</td>\n",
              "      <td>1</td>\n",
              "      <td>1</td>\n",
              "      <td>1</td>\n",
              "      <td>2</td>\n",
              "      <td>2</td>\n",
              "      <td>2</td>\n",
              "      <td>1</td>\n",
              "      <td>1</td>\n",
              "      <td>13</td>\n",
              "      <td>2</td>\n",
              "      <td>6</td>\n",
              "      <td>5</td>\n",
              "      <td>2</td>\n",
              "      <td>2</td>\n",
              "      <td>2</td>\n",
              "      <td>1</td>\n",
              "      <td>2</td>\n",
              "    </tr>\n",
              "    <tr>\n",
              "      <th>1</th>\n",
              "      <td>1</td>\n",
              "      <td>1</td>\n",
              "      <td>2</td>\n",
              "      <td>2</td>\n",
              "      <td>1</td>\n",
              "      <td>2</td>\n",
              "      <td>2</td>\n",
              "      <td>1</td>\n",
              "      <td>3</td>\n",
              "      <td>3</td>\n",
              "      <td>3</td>\n",
              "      <td>3</td>\n",
              "      <td>3</td>\n",
              "      <td>3</td>\n",
              "      <td>3</td>\n",
              "      <td>2</td>\n",
              "      <td>2</td>\n",
              "      <td>2</td>\n",
              "      <td>2</td>\n",
              "      <td>2</td>\n",
              "      <td>4</td>\n",
              "      <td>2</td>\n",
              "      <td>4</td>\n",
              "      <td>3</td>\n",
              "      <td>3</td>\n",
              "      <td>2</td>\n",
              "      <td>1</td>\n",
              "      <td>1</td>\n",
              "      <td>2</td>\n",
              "    </tr>\n",
              "    <tr>\n",
              "      <th>2</th>\n",
              "      <td>1</td>\n",
              "      <td>2</td>\n",
              "      <td>2</td>\n",
              "      <td>2</td>\n",
              "      <td>2</td>\n",
              "      <td>1</td>\n",
              "      <td>1</td>\n",
              "      <td>1</td>\n",
              "      <td>3</td>\n",
              "      <td>3</td>\n",
              "      <td>3</td>\n",
              "      <td>3</td>\n",
              "      <td>1</td>\n",
              "      <td>1</td>\n",
              "      <td>1</td>\n",
              "      <td>2</td>\n",
              "      <td>2</td>\n",
              "      <td>1</td>\n",
              "      <td>2</td>\n",
              "      <td>2</td>\n",
              "      <td>4</td>\n",
              "      <td>4</td>\n",
              "      <td>6</td>\n",
              "      <td>4</td>\n",
              "      <td>1</td>\n",
              "      <td>2</td>\n",
              "      <td>1</td>\n",
              "      <td>2</td>\n",
              "      <td>0</td>\n",
              "    </tr>\n",
              "    <tr>\n",
              "      <th>3</th>\n",
              "      <td>2</td>\n",
              "      <td>1</td>\n",
              "      <td>2</td>\n",
              "      <td>1</td>\n",
              "      <td>2</td>\n",
              "      <td>1</td>\n",
              "      <td>2</td>\n",
              "      <td>1</td>\n",
              "      <td>3</td>\n",
              "      <td>3</td>\n",
              "      <td>3</td>\n",
              "      <td>3</td>\n",
              "      <td>3</td>\n",
              "      <td>3</td>\n",
              "      <td>2</td>\n",
              "      <td>2</td>\n",
              "      <td>2</td>\n",
              "      <td>2</td>\n",
              "      <td>2</td>\n",
              "      <td>2</td>\n",
              "      <td>10</td>\n",
              "      <td>3</td>\n",
              "      <td>4</td>\n",
              "      <td>4</td>\n",
              "      <td>2</td>\n",
              "      <td>3</td>\n",
              "      <td>1</td>\n",
              "      <td>2</td>\n",
              "      <td>2</td>\n",
              "    </tr>\n",
              "    <tr>\n",
              "      <th>4</th>\n",
              "      <td>1</td>\n",
              "      <td>1</td>\n",
              "      <td>1</td>\n",
              "      <td>2</td>\n",
              "      <td>1</td>\n",
              "      <td>2</td>\n",
              "      <td>2</td>\n",
              "      <td>2</td>\n",
              "      <td>3</td>\n",
              "      <td>3</td>\n",
              "      <td>3</td>\n",
              "      <td>3</td>\n",
              "      <td>3</td>\n",
              "      <td>3</td>\n",
              "      <td>2</td>\n",
              "      <td>2</td>\n",
              "      <td>2</td>\n",
              "      <td>2</td>\n",
              "      <td>2</td>\n",
              "      <td>2</td>\n",
              "      <td>11</td>\n",
              "      <td>1</td>\n",
              "      <td>7</td>\n",
              "      <td>4</td>\n",
              "      <td>1</td>\n",
              "      <td>2</td>\n",
              "      <td>1</td>\n",
              "      <td>3</td>\n",
              "      <td>2</td>\n",
              "    </tr>\n",
              "  </tbody>\n",
              "</table>\n",
              "</div>"
            ],
            "text/plain": [
              "  Gender Fever Nausea/Vomting Headache  Diarrhea   ... WBCQ RBCQ HGBQ  PlatQ  PCL\n",
              "0      1     2              1         1         1  ...    2    2    2      1    2\n",
              "1      1     1              2         2         1  ...    3    2    1      1    2\n",
              "2      1     2              2         2         2  ...    1    2    1      2    0\n",
              "3      2     1              2         1         2  ...    2    3    1      2    2\n",
              "4      1     1              1         2         1  ...    1    2    1      3    2\n",
              "\n",
              "[5 rows x 29 columns]"
            ]
          },
          "metadata": {},
          "execution_count": 50
        }
      ]
    },
    {
      "cell_type": "code",
      "metadata": {
        "id": "UHmtypo14pM2"
      },
      "source": [
        ""
      ],
      "execution_count": null,
      "outputs": []
    }
  ]
}